{
 "cells": [
  {
   "cell_type": "markdown",
   "id": "3707eadf",
   "metadata": {},
   "source": [
    "## Lab | Customer Analysis Final"
   ]
  },
  {
   "cell_type": "code",
   "execution_count": 1,
   "id": "21096b2b",
   "metadata": {},
   "outputs": [],
   "source": [
    "# Hey guys, gotta be honest with you: I am lost in the \"statistics woods\"\n",
    "# My statistics knowledge dates from 1990-1995 + Jan's explanation\n",
    "# Knowledge is too few to start lab (round 7)\n",
    "# It doesn't make sense to start improving the model when previous lab still has errors\n",
    "# It's friday night. In weekend I will study more. Hope it will compensate\n",
    "#\n",
    "# Happy though that I made it this far  ;-)\n",
    "# \n",
    "# Wish you all a nice weekend! Thanks "
   ]
  },
  {
   "cell_type": "code",
   "execution_count": null,
   "id": "1a7483a3",
   "metadata": {},
   "outputs": [],
   "source": []
  }
 ],
 "metadata": {
  "kernelspec": {
   "display_name": "Python 3",
   "language": "python",
   "name": "python3"
  },
  "language_info": {
   "codemirror_mode": {
    "name": "ipython",
    "version": 3
   },
   "file_extension": ".py",
   "mimetype": "text/x-python",
   "name": "python",
   "nbconvert_exporter": "python",
   "pygments_lexer": "ipython3",
   "version": "3.8.8"
  }
 },
 "nbformat": 4,
 "nbformat_minor": 5
}
